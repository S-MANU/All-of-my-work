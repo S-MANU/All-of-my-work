{
  "nbformat": 4,
  "nbformat_minor": 0,
  "metadata": {
    "colab": {
      "provenance": [],
      "authorship_tag": "ABX9TyOqFk4J6rHNVFTo/7LknmGd",
      "include_colab_link": true
    },
    "kernelspec": {
      "name": "python3",
      "display_name": "Python 3"
    },
    "language_info": {
      "name": "python"
    }
  },
  "cells": [
    {
      "cell_type": "markdown",
      "metadata": {
        "id": "view-in-github",
        "colab_type": "text"
      },
      "source": [
        "<a href=\"https://colab.research.google.com/github/S-MANU/practice-work/blob/main/ContactManagerApp.ipynb\" target=\"_parent\"><img src=\"https://colab.research.google.com/assets/colab-badge.svg\" alt=\"Open In Colab\"/></a>"
      ]
    },
    {
      "cell_type": "code",
      "source": [
        "class ContactManager:\n",
        "  def __init__(self):\n",
        "    self.contacts = {}\n",
        "\n",
        "  def add_contact(self, name, phone_number, email):\n",
        "    if name not in self.contacts:\n",
        "      self.contacts[name] = {'phone': phone_number, 'email': email}\n",
        "      print(f\"Contact {name} added succesfully.\")\n",
        "    else:\n",
        "      print(f\"Contact {name} is already exists. Use Update_contact to modify.\")\n",
        "\n",
        "  def update_contact(self, name, phone_number=None, email=None):\n",
        "    if name in self.contacts:\n",
        "      if phone_number:\n",
        "        self.contacts[name]['phone'] = phone_number\n",
        "      if email:\n",
        "        self.contacts[name]['email'] = email\n",
        "      print(f\"Contact{name} updated succesfully.\")\n",
        "    else:\n",
        "      print(f\"Contact {name} does not exist. Use add_contact to add.\")\n",
        "\n",
        "  def delete_contact(self,name):\n",
        "    if name in self.contacts:\n",
        "      del self.contacts[name]\n",
        "      print(f\"Contact {name} deleted succesfuly.\")\n",
        "    else:\n",
        "      print(f\"Contact {name} does not exists.\")\n",
        "\n",
        "  def view_contacts(self):\n",
        "    if not self.contacts:\n",
        "      print(f\"No contacts exists\")\n",
        "    else:\n",
        "      print(\"\\nContacts:\")\n",
        "      for name, details in self.contacts.items():\n",
        "        print(f\"Name:{name}, Phone: {details['phone']}, Email: {details['email']}\")\n",
        ""
      ],
      "metadata": {
        "id": "tFpgBGC1HZ_L"
      },
      "execution_count": 1,
      "outputs": []
    },
    {
      "cell_type": "code",
      "source": [
        "contact_manager = ContactManager()\n",
        "contact_manager.add_contact('Manu', '56489756', 'manu@google.com')\n",
        "contact_manager.add_contact(\"Huva\", '986478966', 'huva@gmail.com')\n",
        "\n",
        "contact_manager.view_contacts()"
      ],
      "metadata": {
        "colab": {
          "base_uri": "https://localhost:8080/"
        },
        "id": "qcQzVuZNK-YQ",
        "outputId": "7f7fc3b2-e5ef-4220-a401-913fdfc5ea1e"
      },
      "execution_count": 4,
      "outputs": [
        {
          "output_type": "stream",
          "name": "stdout",
          "text": [
            "Contact Manu added succesfully.\n",
            "Contact Huva added succesfully.\n",
            "\n",
            "Contacts:\n",
            "Name:Manu, Phone: 56489756, Email: manu@google.com\n",
            "Name:Huva, Phone: 986478966, Email: huva@gmail.com\n"
          ]
        }
      ]
    },
    {
      "cell_type": "code",
      "source": [
        "contact_manager.update_contact('Huva', email='huvagmha@gmail.com')\n",
        "contact_manager.view_contacts()"
      ],
      "metadata": {
        "colab": {
          "base_uri": "https://localhost:8080/"
        },
        "id": "BeUQcVazLlqN",
        "outputId": "86da8487-f267-47cf-df3c-b8064e5af16a"
      },
      "execution_count": 9,
      "outputs": [
        {
          "output_type": "stream",
          "name": "stdout",
          "text": [
            "ContactHuva updated succesfully.\n",
            "\n",
            "Contacts:\n",
            "Name:Manu, Phone: 56489756, Email: manu@google.com\n",
            "Name:Huva, Phone: 986478966, Email: huvagmha@gmail.com\n"
          ]
        }
      ]
    },
    {
      "cell_type": "code",
      "source": [
        "contact_manager.delete_contact('Huva')\n",
        "\n",
        "contact_manager.view_contacts()"
      ],
      "metadata": {
        "colab": {
          "base_uri": "https://localhost:8080/"
        },
        "id": "1pP7VydGME_j",
        "outputId": "793ecfc8-9fd5-49a1-aaf5-ddc0249c640e"
      },
      "execution_count": 10,
      "outputs": [
        {
          "output_type": "stream",
          "name": "stdout",
          "text": [
            "Contact Huva deleted succesfuly.\n",
            "\n",
            "Contacts:\n",
            "Name:Manu, Phone: 56489756, Email: manu@google.com\n"
          ]
        }
      ]
    }
  ]
}