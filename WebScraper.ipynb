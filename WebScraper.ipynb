{
  "nbformat": 4,
  "nbformat_minor": 0,
  "metadata": {
    "colab": {
      "provenance": [],
      "authorship_tag": "ABX9TyMPdv0FASip4rOSyNcQy9ZG",
      "include_colab_link": true
    },
    "kernelspec": {
      "name": "python3",
      "display_name": "Python 3"
    },
    "language_info": {
      "name": "python"
    }
  },
  "cells": [
    {
      "cell_type": "markdown",
      "metadata": {
        "id": "view-in-github",
        "colab_type": "text"
      },
      "source": [
        "<a href=\"https://colab.research.google.com/github/S-MANU/practice-work/blob/main/WebScraper.ipynb\" target=\"_parent\"><img src=\"https://colab.research.google.com/assets/colab-badge.svg\" alt=\"Open In Colab\"/></a>"
      ]
    },
    {
      "cell_type": "code",
      "source": [
        "#import necessary libraries\n",
        "import requests\n",
        "from bs4 import BeautifulSoup\n",
        "\n",
        "# Define a function to scrape quotes from a given URL\n",
        "def scrape_quotes(url):\n",
        "  # Send a GET request to website\n",
        "  response = requests.get(url)\n",
        "\n",
        "  # Check if the request was succesful (status code 200)\n",
        "  if response.status_code == 200:\n",
        "    # Parse the HTML content of the page\n",
        "    soup = BeautifulSoup(response.text, 'html.parser')\n",
        "\n",
        "    # Extract information from the HTML\n",
        "    quotes = []\n",
        "    for quote in soup.find_all('div', class_ = 'quote'):\n",
        "      text = quote.find('span', class_='text').text\n",
        "      author = quote.find('small', class_ = 'author').text\n",
        "      tags = [tag.text for tag in quote.find_all('a', class_='tag')]\n",
        "      quotes.append({'text': text, 'author': author, 'tags': tags})\n",
        "\n",
        "    return quotes\n",
        "\n",
        "  else:\n",
        "    # Print an error message if the request was not successful\n",
        "    print(f\" Failed to retrieve the page. Status Code: {response.status_code}\")\n"
      ],
      "metadata": {
        "id": "DyIPRFbsy5KZ"
      },
      "execution_count": 1,
      "outputs": []
    },
    {
      "cell_type": "code",
      "source": [
        "# URL of the website to scrape\n",
        "url_to_scrape = \"http://quotes.toscrape.com\"\n",
        "quotes_data = scrape_quotes(url_to_scrape)\n"
      ],
      "metadata": {
        "id": "pbq9TbPYI-3A"
      },
      "execution_count": 3,
      "outputs": []
    },
    {
      "cell_type": "code",
      "source": [
        "# Display the extracted quotes\n",
        "for idx, quote in enumerate(quotes_data, 1):\n",
        "  print(f\"\\nQuote {idx}:\")\n",
        "  print(f\"Text: {quote['text']}\")\n",
        "  print(f\"Author: {quote['author']}\")\n",
        "  print(f\"Tags: {','.join(quote['tags'])}\")"
      ],
      "metadata": {
        "colab": {
          "base_uri": "https://localhost:8080/"
        },
        "id": "8U51wecSJWnm",
        "outputId": "83e2c764-9e29-4969-a9a8-84730e444460"
      },
      "execution_count": 4,
      "outputs": [
        {
          "output_type": "stream",
          "name": "stdout",
          "text": [
            "\n",
            "Quote 1:\n",
            "Text: “The world as we have created it is a process of our thinking. It cannot be changed without changing our thinking.”\n",
            "Author: Albert Einstein\n",
            "Tags: change,deep-thoughts,thinking,world\n",
            "\n",
            "Quote 2:\n",
            "Text: “It is our choices, Harry, that show what we truly are, far more than our abilities.”\n",
            "Author: J.K. Rowling\n",
            "Tags: abilities,choices\n",
            "\n",
            "Quote 3:\n",
            "Text: “There are only two ways to live your life. One is as though nothing is a miracle. The other is as though everything is a miracle.”\n",
            "Author: Albert Einstein\n",
            "Tags: inspirational,life,live,miracle,miracles\n",
            "\n",
            "Quote 4:\n",
            "Text: “The person, be it gentleman or lady, who has not pleasure in a good novel, must be intolerably stupid.”\n",
            "Author: Jane Austen\n",
            "Tags: aliteracy,books,classic,humor\n",
            "\n",
            "Quote 5:\n",
            "Text: “Imperfection is beauty, madness is genius and it's better to be absolutely ridiculous than absolutely boring.”\n",
            "Author: Marilyn Monroe\n",
            "Tags: be-yourself,inspirational\n",
            "\n",
            "Quote 6:\n",
            "Text: “Try not to become a man of success. Rather become a man of value.”\n",
            "Author: Albert Einstein\n",
            "Tags: adulthood,success,value\n",
            "\n",
            "Quote 7:\n",
            "Text: “It is better to be hated for what you are than to be loved for what you are not.”\n",
            "Author: André Gide\n",
            "Tags: life,love\n",
            "\n",
            "Quote 8:\n",
            "Text: “I have not failed. I've just found 10,000 ways that won't work.”\n",
            "Author: Thomas A. Edison\n",
            "Tags: edison,failure,inspirational,paraphrased\n",
            "\n",
            "Quote 9:\n",
            "Text: “A woman is like a tea bag; you never know how strong it is until it's in hot water.”\n",
            "Author: Eleanor Roosevelt\n",
            "Tags: misattributed-eleanor-roosevelt\n",
            "\n",
            "Quote 10:\n",
            "Text: “A day without sunshine is like, you know, night.”\n",
            "Author: Steve Martin\n",
            "Tags: humor,obvious,simile\n"
          ]
        }
      ]
    }
  ]
}