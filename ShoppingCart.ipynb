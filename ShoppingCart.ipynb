{
  "nbformat": 4,
  "nbformat_minor": 0,
  "metadata": {
    "colab": {
      "provenance": [],
      "authorship_tag": "ABX9TyPKihNNfHzHfKsRuvNN0W1K",
      "include_colab_link": true
    },
    "kernelspec": {
      "name": "python3",
      "display_name": "Python 3"
    },
    "language_info": {
      "name": "python"
    }
  },
  "cells": [
    {
      "cell_type": "markdown",
      "metadata": {
        "id": "view-in-github",
        "colab_type": "text"
      },
      "source": [
        "<a href=\"https://colab.research.google.com/github/S-MANU/practice-work/blob/main/ShoppingCart.ipynb\" target=\"_parent\"><img src=\"https://colab.research.google.com/assets/colab-badge.svg\" alt=\"Open In Colab\"/></a>"
      ]
    },
    {
      "cell_type": "code",
      "source": [
        "class ShoppingCart:\n",
        "  def __init__(self):\n",
        "    self.cart = {}\n",
        "\n",
        "  def add_item(self, item, price, quantity):\n",
        "    if item in self.cart:\n",
        "      self.cart[item]['quantity'] += quantity\n",
        "    else:\n",
        "      self.cart[item] = {'price': price, 'quantity': quantity}\n",
        "\n",
        "  def remove_item(self,item,quantity=1):\n",
        "    for item in self.cart:\n",
        "      if self.cart[item]['quantity'] <= quantity:\n",
        "        del self.cart[item]\n",
        "      else:\n",
        "        self.cart[item]['quantity'] -= quantity\n",
        "\n",
        "  def calculated_total(self):\n",
        "    total = sum(item['price'] * item['quantity'] for item in self.cart.values())\n",
        "    return total\n",
        "\n",
        "  def view_cart(self):\n",
        "    print('Shopping Cart:')\n",
        "    for item, details in self.cart.items():\n",
        "      print(f\"{item}: ${details['price']}  x {details['quantity']}\")\n",
        "\n"
      ],
      "metadata": {
        "id": "pJqG9N2mjFBX"
      },
      "execution_count": 8,
      "outputs": []
    },
    {
      "cell_type": "code",
      "source": [
        "cart = ShoppingCart()\n",
        "\n",
        "cart.add_item(\"Wheat\", 20, 2)\n",
        "cart.add_item(\"Rice\", 15,3)\n",
        "cart.add_item(\"Maize\", 20,4)\n",
        "\n",
        "cart.view_cart()\n",
        "\n",
        "total_price = cart.calculated_total()\n",
        "print(f\"Total Price: ${total_price}\")\n",
        "\n",
        "cart.remove_item(\"Maize\")\n",
        "\n",
        "cart.view_cart()"
      ],
      "metadata": {
        "colab": {
          "base_uri": "https://localhost:8080/"
        },
        "id": "qrLBsAj6oons",
        "outputId": "3cd43f5b-7a68-45d4-befa-988c1981b6f3"
      },
      "execution_count": 9,
      "outputs": [
        {
          "output_type": "stream",
          "name": "stdout",
          "text": [
            "Shopping Cart:\n",
            "Wheat: $20  x 2\n",
            "Rice: $15  x 3\n",
            "Maize: $20  x 4\n",
            "Total Price: $165\n",
            "Shopping Cart:\n",
            "Wheat: $20  x 1\n",
            "Rice: $15  x 2\n",
            "Maize: $20  x 3\n"
          ]
        }
      ]
    }
  ]
}