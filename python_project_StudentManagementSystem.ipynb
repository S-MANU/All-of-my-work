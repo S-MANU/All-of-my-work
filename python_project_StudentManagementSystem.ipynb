{
  "nbformat": 4,
  "nbformat_minor": 0,
  "metadata": {
    "colab": {
      "provenance": [],
      "authorship_tag": "ABX9TyPWxCjybx3SRvfiLWPPQPOl",
      "include_colab_link": true
    },
    "kernelspec": {
      "name": "python3",
      "display_name": "Python 3"
    },
    "language_info": {
      "name": "python"
    }
  },
  "cells": [
    {
      "cell_type": "markdown",
      "metadata": {
        "id": "view-in-github",
        "colab_type": "text"
      },
      "source": [
        "<a href=\"https://colab.research.google.com/github/S-MANU/practice-work/blob/main/python_project_StudentManagementSystem.ipynb\" target=\"_parent\"><img src=\"https://colab.research.google.com/assets/colab-badge.svg\" alt=\"Open In Colab\"/></a>"
      ]
    },
    {
      "cell_type": "code",
      "source": [
        "class StudentManagementSystem():\n",
        "  def __init__(self):\n",
        "    self.students = {}\n",
        "\n",
        "  def add_student(self,name,age,grades):\n",
        "    if name not in self.students:\n",
        "      self.students[name] = {'age':age, 'grades': grades}\n",
        "      print(f\"student {name} added succesfully\")\n",
        "    else:\n",
        "      print(f'Student {name} already exists got to update to modify')\n",
        "\n",
        "  def update_students(self, name, age=None, grades=None ):\n",
        "    if name in self.students:\n",
        "      if age is not None:\n",
        "        self.students[name]['age'] = age\n",
        "\n",
        "      if grades is not None:\n",
        "        self.students[grades]['grades'] = grades\n",
        "      print(f\"students {name} updated succesfully\")\n",
        "    else:\n",
        "      print(f\"student {name} is not available go to add students\")\n",
        "\n",
        "  def generate_report(self):\n",
        "    print(\"\\n Student Report:\")\n",
        "    for name, info in self.students.items():\n",
        "      print(f\"Name: {name}, Age: {info['age']}, 'Grades' :{info['grades']}\")\n",
        "\n",
        "\n",
        "\n"
      ],
      "metadata": {
        "id": "SSKa3iegz25r"
      },
      "execution_count": 1,
      "outputs": []
    },
    {
      "cell_type": "code",
      "source": [
        "sms = StudentManagementSystem()\n",
        "\n",
        "sms.add_student('Manu',25,{'Math': 56, 'Science':67, 'English':99})\n",
        "sms.add_student('Shanvi', 24, {'Math':51, 'Science':65, 'English':89})\n",
        "\n",
        "sms.update_students('Manu', age=21)\n",
        "sms.update_students('Alice', 34, {'Math':45, 'Science': 67, 'English':66})\n",
        "\n",
        "sms.generate_report()"
      ],
      "metadata": {
        "colab": {
          "base_uri": "https://localhost:8080/"
        },
        "id": "6cMgZ4Ft5C9t",
        "outputId": "70bfba8d-e08c-4215-a9d2-054b184b7e1f"
      },
      "execution_count": 2,
      "outputs": [
        {
          "output_type": "stream",
          "name": "stdout",
          "text": [
            "student Manu added succesfully\n",
            "student Shanvi added succesfully\n",
            "students Manu updated succesfully\n",
            "student Alice is not available go to add students\n",
            "\n",
            " Student Report:\n",
            "Name: Manu, Age: 21, 'Grades' :{'Math': 56, 'Science': 67, 'English': 99}\n",
            "Name: Shanvi, Age: 24, 'Grades' :{'Math': 51, 'Science': 65, 'English': 89}\n"
          ]
        }
      ]
    },
    {
      "cell_type": "code",
      "source": [],
      "metadata": {
        "id": "w13wV3wp6-ME"
      },
      "execution_count": null,
      "outputs": []
    }
  ]
}