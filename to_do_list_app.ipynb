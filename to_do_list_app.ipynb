{
  "nbformat": 4,
  "nbformat_minor": 0,
  "metadata": {
    "colab": {
      "provenance": [],
      "authorship_tag": "ABX9TyND+SdxaOgl1/CsYwVtcsxW",
      "include_colab_link": true
    },
    "kernelspec": {
      "name": "python3",
      "display_name": "Python 3"
    },
    "language_info": {
      "name": "python"
    }
  },
  "cells": [
    {
      "cell_type": "markdown",
      "metadata": {
        "id": "view-in-github",
        "colab_type": "text"
      },
      "source": [
        "<a href=\"https://colab.research.google.com/github/S-MANU/practice-work/blob/main/to_do_list_app.ipynb\" target=\"_parent\"><img src=\"https://colab.research.google.com/assets/colab-badge.svg\" alt=\"Open In Colab\"/></a>"
      ]
    },
    {
      "cell_type": "code",
      "execution_count": 1,
      "metadata": {
        "colab": {
          "base_uri": "https://localhost:8080/"
        },
        "id": "ympOoM1oCKjs",
        "outputId": "f011e90f-563b-4b82-8d5d-9835cc3ad8fc"
      },
      "outputs": [
        {
          "output_type": "stream",
          "name": "stdout",
          "text": [
            "\n",
            "Todo List Application\n",
            "1. Add Task\n",
            "2. View Tasks\n",
            "3. Update Task\n",
            "4. Delete Task\n",
            "5. Quit\n",
            "Enter your choice (1-5): 1\n",
            "Enter the task: Go to zym at 5pm\n",
            "Task added successfully!\n",
            "\n",
            "Todo List Application\n",
            "1. Add Task\n",
            "2. View Tasks\n",
            "3. Update Task\n",
            "4. Delete Task\n",
            "5. Quit\n",
            "Enter your choice (1-5): 2\n",
            "Todo List:\n",
            "1. Go to zym at 5pm - Not Completed\n",
            "\n",
            "Todo List Application\n",
            "1. Add Task\n",
            "2. View Tasks\n",
            "3. Update Task\n",
            "4. Delete Task\n",
            "5. Quit\n",
            "Enter your choice (1-5): 5\n",
            "Exiting the application. Goodbye!\n"
          ]
        }
      ],
      "source": [
        "# Todo List Application\n",
        "\n",
        "todo_list = []\n",
        "\n",
        "def add_task():\n",
        "    task = input(\"Enter the task: \")\n",
        "    todo_list.append({\"task\": task, \"completed\": False})\n",
        "    print(\"Task added successfully!\")\n",
        "\n",
        "def view_tasks():\n",
        "    if not todo_list:\n",
        "        print(\"No tasks in the list.\")\n",
        "    else:\n",
        "        print(\"Todo List:\")\n",
        "        for i, task in enumerate(todo_list, 1):\n",
        "            status = \"Completed\" if task[\"completed\"] else \"Not Completed\"\n",
        "            print(f\"{i}. {task['task']} - {status}\")\n",
        "\n",
        "def update_task():\n",
        "    view_tasks()\n",
        "    index = int(input(\"Enter the task number to update: \")) - 1\n",
        "    if 0 <= index < len(todo_list):\n",
        "        todo_list[index][\"completed\"] = not todo_list[index][\"completed\"]\n",
        "        print(\"Task updated successfully!\")\n",
        "    else:\n",
        "        print(\"Invalid task number.\")\n",
        "\n",
        "def delete_task():\n",
        "    view_tasks()\n",
        "    index = int(input(\"Enter the task number to delete: \")) - 1\n",
        "    if 0 <= index < len(todo_list):\n",
        "        del todo_list[index]\n",
        "        print(\"Task deleted successfully!\")\n",
        "    else:\n",
        "        print(\"Invalid task number.\")\n",
        "\n",
        "# Main loop\n",
        "while True:\n",
        "    print(\"\\nTodo List Application\")\n",
        "    print(\"1. Add Task\")\n",
        "    print(\"2. View Tasks\")\n",
        "    print(\"3. Update Task\")\n",
        "    print(\"4. Delete Task\")\n",
        "    print(\"5. Quit\")\n",
        "\n",
        "    choice = input(\"Enter your choice (1-5): \")\n",
        "\n",
        "    if choice == '1':\n",
        "        add_task()\n",
        "    elif choice == '2':\n",
        "        view_tasks()\n",
        "    elif choice == '3':\n",
        "        update_task()\n",
        "    elif choice == '4':\n",
        "        delete_task()\n",
        "    elif choice == '5':\n",
        "        print(\"Exiting the application. Goodbye!\")\n",
        "        break\n",
        "    else:\n",
        "        print(\"Invalid choice. Please enter a number between 1 and 5.\")\n"
      ]
    }
  ]
}