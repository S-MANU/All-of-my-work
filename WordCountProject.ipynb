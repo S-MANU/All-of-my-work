{
  "nbformat": 4,
  "nbformat_minor": 0,
  "metadata": {
    "colab": {
      "provenance": [],
      "authorship_tag": "ABX9TyP9gzOFKAPU8LPrcEjWyc6f",
      "include_colab_link": true
    },
    "kernelspec": {
      "name": "python3",
      "display_name": "Python 3"
    },
    "language_info": {
      "name": "python"
    }
  },
  "cells": [
    {
      "cell_type": "markdown",
      "metadata": {
        "id": "view-in-github",
        "colab_type": "text"
      },
      "source": [
        "<a href=\"https://colab.research.google.com/github/S-MANU/practice-work/blob/main/WordCountProject.ipynb\" target=\"_parent\"><img src=\"https://colab.research.google.com/assets/colab-badge.svg\" alt=\"Open In Colab\"/></a>"
      ]
    },
    {
      "cell_type": "code",
      "source": [
        "def word_counter(text):\n",
        "  # Converting the text to lower case to make counting case-insensitive\n",
        "  text = text.lower()\n",
        "\n",
        "  # Split the text into words\n",
        "  words = text.split()\n",
        "\n",
        "  # Initialize empty dictionary\n",
        "  word_count = {}\n",
        "\n",
        "  # Count the occurance of each words\n",
        "  for word in words:\n",
        "    # Remove if any punctuations\n",
        "    word = word.strip('.,!?(){}\"\\'')\n",
        "\n",
        "    # Update the word count\n",
        "    if word in word_count:\n",
        "      word_count[word] += 1\n",
        "    else:\n",
        "      word_count[word] = 1\n",
        "  return word_count\n",
        "\n"
      ],
      "metadata": {
        "id": "VYjjd8YiSZ25"
      },
      "execution_count": 1,
      "outputs": []
    },
    {
      "cell_type": "code",
      "source": [
        "input_text = \"The football match I watched yesterday is so wonderful that I lost in time and forgoted what is happening around\"\n",
        "result = word_counter(input_text)\n",
        "\n",
        "# Display the word frequensies\n",
        "for word, count in result.items():\n",
        "  print(f\"{word}:{count}\")\n",
        "\n",
        "total_words = sum(result.values())\n",
        "print(f\"Total Words: {total_words}\")\n",
        "\n",
        "\n"
      ],
      "metadata": {
        "colab": {
          "base_uri": "https://localhost:8080/"
        },
        "id": "_urKBGyeVIRA",
        "outputId": "15e27612-ec88-41cc-c39d-733a4e7b7718"
      },
      "execution_count": 7,
      "outputs": [
        {
          "output_type": "stream",
          "name": "stdout",
          "text": [
            "the:1\n",
            "football:1\n",
            "match:1\n",
            "i:2\n",
            "watched:1\n",
            "yesterday:1\n",
            "is:2\n",
            "so:1\n",
            "wonderful:1\n",
            "that:1\n",
            "lost:1\n",
            "in:1\n",
            "time:1\n",
            "and:1\n",
            "forgoted:1\n",
            "what:1\n",
            "happening:1\n",
            "around:1\n",
            "Total Words: 20\n"
          ]
        }
      ]
    },
    {
      "cell_type": "code",
      "source": [
        "input_text = \"I am always excited to go nearmy relatives even because it is so much fun to talk with them.I don't know what I liked from them but it is interesting \"\n",
        "result = word_counter(input_text)\n",
        "\n",
        "for word, count in result.items():\n",
        "  print(f\"{word}:{count}\")\n",
        "\n",
        "total_words = sum(result.values())\n",
        "print(f\"Total Words: {total_words}\")"
      ],
      "metadata": {
        "colab": {
          "base_uri": "https://localhost:8080/"
        },
        "id": "-FCnauEPWtBP",
        "outputId": "a10084e7-78ac-423c-8f32-8356969a54fe"
      },
      "execution_count": 9,
      "outputs": [
        {
          "output_type": "stream",
          "name": "stdout",
          "text": [
            "i:2\n",
            "am:1\n",
            "always:1\n",
            "excited:1\n",
            "to:2\n",
            "go:1\n",
            "nearmy:1\n",
            "relatives:1\n",
            "even:1\n",
            "because:1\n",
            "it:2\n",
            "is:2\n",
            "so:1\n",
            "much:1\n",
            "fun:1\n",
            "talk:1\n",
            "with:1\n",
            "them.i:1\n",
            "don't:1\n",
            "know:1\n",
            "what:1\n",
            "liked:1\n",
            "from:1\n",
            "them:1\n",
            "but:1\n",
            "interesting:1\n",
            "Total Words: 30\n"
          ]
        }
      ]
    }
  ]
}