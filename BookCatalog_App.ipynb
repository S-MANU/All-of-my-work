{
  "nbformat": 4,
  "nbformat_minor": 0,
  "metadata": {
    "colab": {
      "provenance": [],
      "authorship_tag": "ABX9TyPzIyTINSJhDOoRy2JpD050",
      "include_colab_link": true
    },
    "kernelspec": {
      "name": "python3",
      "display_name": "Python 3"
    },
    "language_info": {
      "name": "python"
    }
  },
  "cells": [
    {
      "cell_type": "markdown",
      "metadata": {
        "id": "view-in-github",
        "colab_type": "text"
      },
      "source": [
        "<a href=\"https://colab.research.google.com/github/S-MANU/practice-work/blob/main/BookCatalog_App.ipynb\" target=\"_parent\"><img src=\"https://colab.research.google.com/assets/colab-badge.svg\" alt=\"Open In Colab\"/></a>"
      ]
    },
    {
      "cell_type": "code",
      "source": [
        "class BookCatalog:\n",
        "  def __init__(self):\n",
        "        self.books = {}\n",
        "\n",
        "  def add_book(self, title, author, genre):\n",
        "    book_id = len(self.books) + 1\n",
        "    self.books[book_id] = {'title': title, 'author': author, 'genre': genre}\n",
        "    print(f\"Book '{title} added succesfully!\")\n",
        "\n",
        "  def update_book(self,book_id,title =None, author=None, genre=None):\n",
        "    if book_id in self.books:\n",
        "      book = self.books[book_id]\n",
        "      book['title'] = title if title else book['title']\n",
        "      book['author'] = author if author else book['author']\n",
        "      book['genre'] = genre if genre else book['genre']\n",
        "      print(f\"Book with ID {book_id} updated successfully!\")\n",
        "\n",
        "    else:\n",
        "      print(f\"Book with ID {book_id} not found!\")\n",
        "\n",
        "  def delete_book(self, book_id):\n",
        "    if book_id in self.books:\n",
        "      deleted_book = self.books.pop(book_id)\n",
        "      print(f\"Book{deleted_book['title']} deleted succesfully!\")\n",
        "    else:\n",
        "      print(f\"Book with ID {book_id} not found!\")\n",
        "\n",
        "  def display_catalog(self):\n",
        "    print(\"\\nBook Catalog:\")\n",
        "    for book_id, book_info in self.books.items():\n",
        "      print(f\"ID: {book_id}, Title: {book_info['title']}, Author: {book_info['author']}, Genre: {book_info['genre']}\")\n",
        ""
      ],
      "metadata": {
        "id": "3Rc7x9e8UwFc"
      },
      "execution_count": 5,
      "outputs": []
    },
    {
      "cell_type": "code",
      "source": [
        "catalog = BookCatalog()\n",
        "\n",
        "catalog.add_book(\"The Great Gatsby\", \"F. Scott Fitzgerald\", \"Classic\")\n",
        "catalog.add_book(\"To kill a Mockingbird\", \"Harper Lee\", \"Fiction\")\n",
        "\n",
        "catalog.display_catalog()\n",
        "\n",
        "\n"
      ],
      "metadata": {
        "colab": {
          "base_uri": "https://localhost:8080/"
        },
        "id": "XKxPr896Ppek",
        "outputId": "ba5524ae-e855-45df-e86b-3e8cef8397cf"
      },
      "execution_count": 7,
      "outputs": [
        {
          "output_type": "stream",
          "name": "stdout",
          "text": [
            "Book 'The Great Gatsby added succesfully!\n",
            "Book 'To kill a Mockingbird added succesfully!\n",
            "\n",
            "Book Catalog:\n",
            "ID: 1, Title: The Great Gatsby, Author: F. Scott Fitzgerald, Genre: Classic\n",
            "ID: 2, Title: To kill a Mockingbird, Author: Harper Lee, Genre: Fiction\n"
          ]
        }
      ]
    },
    {
      "cell_type": "code",
      "source": [
        "catalog.update_book(1, title = 'Updated Title', genre = 'Updated Genre')\n",
        "catalog.display_catalog()"
      ],
      "metadata": {
        "colab": {
          "base_uri": "https://localhost:8080/"
        },
        "id": "g65w--wWFRBE",
        "outputId": "96c850f2-c74d-4a79-fb6d-3baa45dbe6ea"
      },
      "execution_count": 8,
      "outputs": [
        {
          "output_type": "stream",
          "name": "stdout",
          "text": [
            "Book with ID 1 updated successfully!\n",
            "\n",
            "Book Catalog:\n",
            "ID: 1, Title: Updated Title, Author: F. Scott Fitzgerald, Genre: Updated Genre\n",
            "ID: 2, Title: To kill a Mockingbird, Author: Harper Lee, Genre: Fiction\n"
          ]
        }
      ]
    },
    {
      "cell_type": "code",
      "source": [
        "catalog.delete_book(1)\n",
        "catalog.display_catalog()"
      ],
      "metadata": {
        "colab": {
          "base_uri": "https://localhost:8080/"
        },
        "id": "HvAZavX8Fw-w",
        "outputId": "64805fe8-646e-4e50-b84c-653bc2480ecb"
      },
      "execution_count": 9,
      "outputs": [
        {
          "output_type": "stream",
          "name": "stdout",
          "text": [
            "BookUpdated Title deleted succesfully!\n",
            "\n",
            "Book Catalog:\n",
            "ID: 2, Title: To kill a Mockingbird, Author: Harper Lee, Genre: Fiction\n"
          ]
        }
      ]
    },
    {
      "cell_type": "code",
      "source": [],
      "metadata": {
        "id": "R1OdJ7oBGLAs"
      },
      "execution_count": null,
      "outputs": []
    }
  ]
}