{
  "nbformat": 4,
  "nbformat_minor": 0,
  "metadata": {
    "colab": {
      "provenance": [],
      "authorship_tag": "ABX9TyNqaAPsOh+Wz+LdHCpR1Fcd",
      "include_colab_link": true
    },
    "kernelspec": {
      "name": "python3",
      "display_name": "Python 3"
    },
    "language_info": {
      "name": "python"
    }
  },
  "cells": [
    {
      "cell_type": "markdown",
      "metadata": {
        "id": "view-in-github",
        "colab_type": "text"
      },
      "source": [
        "<a href=\"https://colab.research.google.com/github/S-MANU/practice-work/blob/main/PasswordManager.ipynb\" target=\"_parent\"><img src=\"https://colab.research.google.com/assets/colab-badge.svg\" alt=\"Open In Colab\"/></a>"
      ]
    },
    {
      "cell_type": "code",
      "source": [
        "from cryptography.fernet import Fernet\n",
        "import json\n",
        "\n",
        "class PasswordManager:\n",
        "  def __init__(self, key_file='key.key', data_file = 'passwords.json'):\n",
        "    self.key_file = key_file\n",
        "    self.data_file = data_file\n",
        "    self.load_key()\n",
        "\n",
        "  def load_key(self):\n",
        "    try:\n",
        "      with open(self.key_file, 'rb') as key_file:\n",
        "        self.key = key_file.read()\n",
        "    except FileNotFoundError:\n",
        "      self.key = Fernet.generate_key()\n",
        "      with open(self.key_file, 'wb') as key_file:\n",
        "        key_file.write(self.key)\n",
        "  def encrypt_password(self, password):\n",
        "    cipher_suite = Fernet(self.key)\n",
        "    encrypted_password = cipher_suite.encrypt(password.encode())\n",
        "    return encrypted_password\n",
        "\n",
        "  def decrypt_password(self, encrypted_password):\n",
        "    cipher_suite = Fernet(self.key)\n",
        "    decrypted_password = cipher_suite.decrypt(encrypted_password).decode()\n",
        "    return decrypted_password\n",
        "\n",
        "  def load_passwords(self):\n",
        "    try:\n",
        "      with open(self.data_file, 'rb') as file:\n",
        "        encrypted_data = file.read()\n",
        "        decrypted_data = self.decrypt_password(encrypted_data)\n",
        "        return json.loads(decrypted_data)\n",
        "    except FileNotFoundError:\n",
        "      return {}\n",
        "\n",
        "  def save_passwords(self,passwords):\n",
        "    encrypted_data = self.encrypt_password(json.dumps(passwords))\n",
        "    with open(self.data_file, 'wb') as file:\n",
        "      file.write(encrypted_data)\n",
        "\n",
        "  def add_password(self, site, username, password):\n",
        "    passwords = self.load_passwords()\n",
        "    if site not in passwords:\n",
        "      passwords[site] = {'username': username, 'password': password}\n",
        "      self.save_passwords(passwords)\n",
        "      print(f\"Password addedfor {site}\")\n",
        "    else:\n",
        "      print(f\"Password for {site} already exists.\")\n",
        "\n",
        "  def get_password(self, site):\n",
        "    passwords = self.load_passwords()\n",
        "    if site in passwords:\n",
        "      return passwords[site]['password']\n",
        "    else:\n",
        "      print(f\"No password found for {site}\")\n",
        "\n",
        "\n"
      ],
      "metadata": {
        "id": "uZLS2WrWQDus"
      },
      "execution_count": 1,
      "outputs": []
    },
    {
      "cell_type": "code",
      "source": [
        "password_manager = PasswordManager()\n",
        "\n",
        "#Add password\n",
        "password_manager.add_password('sumanth@gmail.com', 'sanvith', 'passWORD')\n",
        "password_manager.add_password('ghujj@yahoo.com', 'gujju', 'SecratePASSword')\n",
        "\n",
        "# Retrieve passwords\n",
        "password1 = password_manager.get_password('sumanth@gmail.com')\n",
        "password2 = password_manager.get_password('ghujj@yahoo.com')\n",
        "\n",
        "print(f\"Password for sumanth@gmail.com: {password1} \")\n",
        "print(f\"Password for ghujj@yahoo.com: {password2} \")"
      ],
      "metadata": {
        "colab": {
          "base_uri": "https://localhost:8080/"
        },
        "id": "Jk-jYe1yxxkQ",
        "outputId": "ff08269c-0399-47cf-a14c-ac209a75dd0a"
      },
      "execution_count": 2,
      "outputs": [
        {
          "output_type": "stream",
          "name": "stdout",
          "text": [
            "Password addedfor sumanth@gmail.com\n",
            "Password addedfor ghujj@yahoo.com\n",
            "Password for sumanth@gmail.com: passWORD \n",
            "Password for ghujj@yahoo.com: SecratePASSword \n"
          ]
        }
      ]
    }
  ]
}